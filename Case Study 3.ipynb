{
 "cells": [
  {
   "cell_type": "code",
   "execution_count": 2,
   "id": "34abc6d5",
   "metadata": {},
   "outputs": [],
   "source": [
    "import numpy as np\n",
    "import pandas as pd\n",
    "import matplotlib.pyplot as plt\n",
    "import seaborn as sns"
   ]
  },
  {
   "cell_type": "code",
   "execution_count": 4,
   "id": "065113a4",
   "metadata": {},
   "outputs": [],
   "source": [
    "sales = pd.read_csv(\"Sales_add.csv\")"
   ]
  },
  {
   "cell_type": "code",
   "execution_count": 6,
   "id": "a76ce52e",
   "metadata": {},
   "outputs": [
    {
     "data": {
      "text/html": [
       "<div>\n",
       "<style scoped>\n",
       "    .dataframe tbody tr th:only-of-type {\n",
       "        vertical-align: middle;\n",
       "    }\n",
       "\n",
       "    .dataframe tbody tr th {\n",
       "        vertical-align: top;\n",
       "    }\n",
       "\n",
       "    .dataframe thead th {\n",
       "        text-align: right;\n",
       "    }\n",
       "</style>\n",
       "<table border=\"1\" class=\"dataframe\">\n",
       "  <thead>\n",
       "    <tr style=\"text-align: right;\">\n",
       "      <th></th>\n",
       "      <th>Month</th>\n",
       "      <th>Region</th>\n",
       "      <th>Manager</th>\n",
       "      <th>Sales_before_digital_add(in $)</th>\n",
       "      <th>Sales_After_digital_add(in $)</th>\n",
       "    </tr>\n",
       "  </thead>\n",
       "  <tbody>\n",
       "    <tr>\n",
       "      <th>0</th>\n",
       "      <td>Month-1</td>\n",
       "      <td>Region - A</td>\n",
       "      <td>Manager - A</td>\n",
       "      <td>132921</td>\n",
       "      <td>270390</td>\n",
       "    </tr>\n",
       "    <tr>\n",
       "      <th>1</th>\n",
       "      <td>Month-2</td>\n",
       "      <td>Region - A</td>\n",
       "      <td>Manager - C</td>\n",
       "      <td>149559</td>\n",
       "      <td>223334</td>\n",
       "    </tr>\n",
       "    <tr>\n",
       "      <th>2</th>\n",
       "      <td>Month-3</td>\n",
       "      <td>Region - B</td>\n",
       "      <td>Manager - A</td>\n",
       "      <td>146278</td>\n",
       "      <td>244243</td>\n",
       "    </tr>\n",
       "    <tr>\n",
       "      <th>3</th>\n",
       "      <td>Month-4</td>\n",
       "      <td>Region - B</td>\n",
       "      <td>Manager - B</td>\n",
       "      <td>152167</td>\n",
       "      <td>231808</td>\n",
       "    </tr>\n",
       "    <tr>\n",
       "      <th>4</th>\n",
       "      <td>Month-5</td>\n",
       "      <td>Region - C</td>\n",
       "      <td>Manager - B</td>\n",
       "      <td>159525</td>\n",
       "      <td>258402</td>\n",
       "    </tr>\n",
       "  </tbody>\n",
       "</table>\n",
       "</div>"
      ],
      "text/plain": [
       "     Month      Region      Manager  Sales_before_digital_add(in $)  \\\n",
       "0  Month-1  Region - A  Manager - A                          132921   \n",
       "1  Month-2  Region - A  Manager - C                          149559   \n",
       "2  Month-3  Region - B  Manager - A                          146278   \n",
       "3  Month-4  Region - B  Manager - B                          152167   \n",
       "4  Month-5  Region - C  Manager - B                          159525   \n",
       "\n",
       "   Sales_After_digital_add(in $)  \n",
       "0                         270390  \n",
       "1                         223334  \n",
       "2                         244243  \n",
       "3                         231808  \n",
       "4                         258402  "
      ]
     },
     "execution_count": 6,
     "metadata": {},
     "output_type": "execute_result"
    }
   ],
   "source": [
    "sales.head()"
   ]
  },
  {
   "cell_type": "markdown",
   "id": "9c271e13",
   "metadata": {},
   "source": [
    "# Whether there is any increase in sales after stepping into digital marketing."
   ]
  },
  {
   "cell_type": "code",
   "execution_count": 8,
   "id": "58dd39fd",
   "metadata": {},
   "outputs": [],
   "source": [
    "from scipy import stats"
   ]
  },
  {
   "cell_type": "code",
   "execution_count": 16,
   "id": "b8336aae",
   "metadata": {},
   "outputs": [
    {
     "name": "stdout",
     "output_type": "stream",
     "text": [
      "p value is 2.614368006904645e-16\n",
      "Reject null hypothesis\n",
      " Digital marketing increases sales\n"
     ]
    }
   ],
   "source": [
    "sales.describe().T\n",
    "t,p=stats.ttest_ind(sales['Sales_before_digital_add(in $)'],sales['Sales_After_digital_add(in $)'])\n",
    "print('p value is',p)\n",
    "if p<0.05:\n",
    "    print(\"Reject null hypothesis\\n\",\"Digital marketing increases sales\")\n",
    "else:\n",
    "    print(\"Accept null hypothesis\\n\",\"Digital marketing doesn't increase sales\")"
   ]
  },
  {
   "cell_type": "markdown",
   "id": "0c29730a",
   "metadata": {},
   "source": [
    "# Whether there is any dependency between the features 'Region' and 'Manager'."
   ]
  },
  {
   "cell_type": "code",
   "execution_count": 18,
   "id": "7b44f5c4",
   "metadata": {},
   "outputs": [
    {
     "name": "stdout",
     "output_type": "stream",
     "text": [
      "contingency_table :-\n",
      " Manager     Manager - A  Manager - B  Manager - C\n",
      "Region                                           \n",
      "Region - A            4            3            3\n",
      "Region - B            4            1            2\n",
      "Region - C            1            3            1\n"
     ]
    }
   ],
   "source": [
    "contingency_table=pd.crosstab(sales[\"Region\"],sales[\"Manager\"])\n",
    "print('contingency_table :-\\n',contingency_table)"
   ]
  },
  {
   "cell_type": "code",
   "execution_count": 20,
   "id": "aa1b2556",
   "metadata": {},
   "outputs": [
    {
     "name": "stdout",
     "output_type": "stream",
     "text": [
      "Observed Values :-\n",
      " [[4 3 3]\n",
      " [4 1 2]\n",
      " [1 3 1]]\n"
     ]
    }
   ],
   "source": [
    "Observed_Values = contingency_table.values \n",
    "print(\"Observed Values :-\\n\",Observed_Values)"
   ]
  },
  {
   "cell_type": "code",
   "execution_count": 22,
   "id": "5c5b586c",
   "metadata": {},
   "outputs": [
    {
     "name": "stdout",
     "output_type": "stream",
     "text": [
      "Expected Values :-\n",
      " [[4.09090909 3.18181818 2.72727273]\n",
      " [2.86363636 2.22727273 1.90909091]\n",
      " [2.04545455 1.59090909 1.36363636]]\n"
     ]
    }
   ],
   "source": [
    "b=stats.chi2_contingency(contingency_table)\n",
    "Expected_Values = b[3]\n",
    "print(\"Expected Values :-\\n\",Expected_Values)"
   ]
  },
  {
   "cell_type": "code",
   "execution_count": 23,
   "id": "8a0cf9b9",
   "metadata": {},
   "outputs": [],
   "source": [
    "from scipy.stats import chi2"
   ]
  },
  {
   "cell_type": "code",
   "execution_count": 25,
   "id": "ab18cfa8",
   "metadata": {},
   "outputs": [
    {
     "name": "stdout",
     "output_type": "stream",
     "text": [
      "chi-square statistic:- 2.921995464852608\n",
      "Degree of Freedom:- 1\n"
     ]
    }
   ],
   "source": [
    "chi_square=sum([(o-e)**2./e for o,e in zip(Observed_Values,Expected_Values)])\n",
    "chi_square_statistic=chi_square[0]+chi_square[1]\n",
    "print(\"chi-square statistic:-\",chi_square_statistic)\n",
    "no_of_rows=len(contingency_table.iloc[0:2,0])\n",
    "no_of_columns=len(contingency_table.iloc[0,0:2])\n",
    "ddof=(no_of_rows-1)*(no_of_columns-1)\n",
    "print(\"Degree of Freedom:-\",ddof)\n",
    "alpha = 0.05"
   ]
  },
  {
   "cell_type": "code",
   "execution_count": 27,
   "id": "64f2fe9b",
   "metadata": {},
   "outputs": [
    {
     "name": "stdout",
     "output_type": "stream",
     "text": [
      "critical_value: 3.841458820694124\n"
     ]
    }
   ],
   "source": [
    "critical_value=chi2.ppf(q=1-alpha,df=ddof)\n",
    "print('critical_value:',critical_value)"
   ]
  },
  {
   "cell_type": "code",
   "execution_count": 29,
   "id": "a82ffca5",
   "metadata": {},
   "outputs": [
    {
     "name": "stdout",
     "output_type": "stream",
     "text": [
      "p-value: 0.08737974495299139\n",
      "Significance level:  0.05\n",
      "Degree of Freedom:  1\n",
      "chi-square statistic: 2.921995464852608\n",
      "critical_value: 3.841458820694124\n",
      "Accept null hypothesis,There is no relationship between 2 categorical variables\n",
      "Accept null hypothesis,There is no relationship between 2 categorical variables\n"
     ]
    }
   ],
   "source": [
    "p_value=1-chi2.cdf(x=chi_square_statistic,df=ddof)\n",
    "print('p-value:',p_value)\n",
    "print('Significance level: ',alpha)\n",
    "print('Degree of Freedom: ',ddof)\n",
    "print('chi-square statistic:',chi_square_statistic)\n",
    "print('critical_value:',critical_value)\n",
    "if chi_square_statistic>=critical_value:\n",
    "    print(\"Reject null hypothesis,There is a relationship between 2 categorical variables\")\n",
    "else:\n",
    "    print(\"Accept null hypothesis,There is no relationship between 2 categorical variables\")\n",
    "    \n",
    "if p_value<=alpha:\n",
    "    print(\"Reject null hypothesis,There is a relationship between 2 categorical variables\")\n",
    "else:\n",
    "    print(\"Accept null hypothesis,There is no relationship between 2 categorical variables\")"
   ]
  }
 ],
 "metadata": {
  "kernelspec": {
   "display_name": "Python 3 (ipykernel)",
   "language": "python",
   "name": "python3"
  },
  "language_info": {
   "codemirror_mode": {
    "name": "ipython",
    "version": 3
   },
   "file_extension": ".py",
   "mimetype": "text/x-python",
   "name": "python",
   "nbconvert_exporter": "python",
   "pygments_lexer": "ipython3",
   "version": "3.9.7"
  }
 },
 "nbformat": 4,
 "nbformat_minor": 5
}
